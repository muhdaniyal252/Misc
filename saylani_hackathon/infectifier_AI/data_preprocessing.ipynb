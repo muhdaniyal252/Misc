{
 "cells": [
  {
   "cell_type": "code",
   "execution_count": 1,
   "metadata": {},
   "outputs": [],
   "source": [
    "import os\n",
    "import albumentations as A"
   ]
  },
  {
   "cell_type": "code",
   "execution_count": 2,
   "metadata": {},
   "outputs": [],
   "source": [
    "base_dir = 'data'\n",
    "train_dir = f'{base_dir}/train/'"
   ]
  },
  {
   "cell_type": "code",
   "execution_count": 3,
   "metadata": {},
   "outputs": [],
   "source": [
    "infected_dir = f'{train_dir}/Infected'\n",
    "not_infected_dir = f'{train_dir}/Not Infected'"
   ]
  },
  {
   "cell_type": "code",
   "execution_count": 4,
   "metadata": {},
   "outputs": [],
   "source": [
    "infected_data = os.listdir(infected_dir)\n",
    "not_infected_data = os.listdir(not_infected_dir)"
   ]
  },
  {
   "cell_type": "code",
   "execution_count": 5,
   "metadata": {},
   "outputs": [
    {
     "data": {
      "text/plain": [
       "(3896, 1342)"
      ]
     },
     "execution_count": 5,
     "metadata": {},
     "output_type": "execute_result"
    }
   ],
   "source": [
    "len(infected_data),len(not_infected_data)"
   ]
  },
  {
   "cell_type": "code",
   "execution_count": 7,
   "metadata": {},
   "outputs": [],
   "source": [
    "augmentation1 = A.Compose([\n",
    "    A.HorizontalFlip(p=0.5), # Rotate images by -45 to 45 degrees with a 70% probability\n",
    "])"
   ]
  },
  {
   "cell_type": "code",
   "execution_count": 8,
   "metadata": {},
   "outputs": [],
   "source": [
    "augmentation2 = A.Compose([\n",
    "    A.Rotate(limit=(-45, 45), p=0.7)  # Rotate images by -45 to 45 degrees with a 70% probability\n",
    "])"
   ]
  },
  {
   "cell_type": "code",
   "execution_count": 10,
   "metadata": {},
   "outputs": [
    {
     "data": {
      "text/plain": [
       "['data/train//Not Infected/.DS_Store',\n",
       " 'data/train//Not Infected/IM-0115-0001.jpeg',\n",
       " 'data/train//Not Infected/IM-0117-0001.jpeg',\n",
       " 'data/train//Not Infected/IM-0119-0001.jpeg',\n",
       " 'data/train//Not Infected/IM-0122-0001.jpeg']"
      ]
     },
     "execution_count": 10,
     "metadata": {},
     "output_type": "execute_result"
    }
   ],
   "source": [
    "images = [f'{not_infected_dir}/{i}' for i in os.listdir(not_infected_dir)]\n",
    "images[:5]"
   ]
  },
  {
   "cell_type": "code",
   "execution_count": null,
   "metadata": {},
   "outputs": [],
   "source": [
    "for img in images:\n",
    "    try:\n",
    "        "
   ]
  }
 ],
 "metadata": {
  "language_info": {
   "name": "python"
  }
 },
 "nbformat": 4,
 "nbformat_minor": 2
}
